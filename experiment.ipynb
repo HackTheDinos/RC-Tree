{
 "cells": [
  {
   "cell_type": "code",
   "execution_count": null,
   "metadata": {
    "collapsed": false
   },
   "outputs": [],
   "source": [
    "import numpy as np\n",
    "import cv2\n",
    "import tree2\n",
    "import karol\n",
    "import os\n",
    "import matplotlib\n",
    "import matplotlib.pyplot as plt\n",
    "import ete2\n",
    "from group_nodes_2_text import *\n",
    "\n",
    "%matplotlib inline\n",
    "\n",
    "def show(img, cvt=cv2.COLOR_GRAY2RGB, do_cvt=True):\n",
    "    plt.figure(figsize=(10,10))\n",
    "    if do_cvt:\n",
    "        plt.imshow(cv2.cvtColor(img, cvt))\n",
    "    else:\n",
    "        plt.imshow(img)\n"
   ]
  },
  {
   "cell_type": "code",
   "execution_count": null,
   "metadata": {
    "collapsed": false
   },
   "outputs": [],
   "source": [
    "reload(tree2)\n",
    "reload(karol)"
   ]
  },
  {
   "cell_type": "code",
   "execution_count": null,
   "metadata": {
    "collapsed": false
   },
   "outputs": [],
   "source": [
    "images = [os.path.join(\"images\", f) for f in os.listdir(\"images\")]\n",
    "fn = \"images/tree_image_ref.png\"\n",
    "# print images\n",
    "show(cv2.imread(fn), False)"
   ]
  },
  {
   "cell_type": "code",
   "execution_count": null,
   "metadata": {
    "collapsed": false,
    "scrolled": false
   },
   "outputs": [],
   "source": [
    "img = cv2.imread(fn)\n",
    "scratch = img.copy()\n",
    "gray = cv2.cvtColor(img,cv2.COLOR_BGR2GRAY)\n",
    "corners = karol.get_contour(img, gray)\n",
    "nodes = karol.nodes_from_corners(img, gray, corners, max_dist=8, iterations=3)\n",
    "node_neighbors = karol.node_neighbors(nodes, gray)\n",
    "karol.unhook_triangles(nodes, node_neighbors)\n",
    "root = karol.find_root(nodes, node_neighbors)\n",
    "sources = karol.depth_first_cycle_finder(np.copy(img), nodes, node_neighbors, root)\n",
    "while sources is None:\n",
    "    sources = karol.depth_first_cycle_finder(np.copy(img), nodes, node_neighbors, root)\n",
    "\n",
    "for i in range(len(nodes)):\n",
    "    if len(node_neighbors[i]) == 2:\n",
    "        n1, n2 = node_neighbors[i]\n",
    "        for j in node_neighbors:\n",
    "            #print(node_neighbors[j], i, j)\n",
    "            node_neighbors[j] = [x for x in node_neighbors[j] if x != i]\n",
    "        node_neighbors[n1].append(n2)\n",
    "        node_neighbors[n2].append(n1)\n",
    "        del node_neighbors[i]\n",
    "    \n",
    "for i in sorted(node_neighbors):\n",
    "    node_x, node_y = nodes[i]\n",
    "    for neighbor in node_neighbors[i]:\n",
    "        neighbor_x, neighbor_y = nodes[neighbor]\n",
    "        cv2.line(scratch, (node_x, node_y), (neighbor_x, neighbor_y), (0,255,0), 3)\n",
    "        \n",
    "for i in sorted(node_neighbors):\n",
    "    cv2.putText(scratch, str(i), nodes[i], cv2.FONT_HERSHEY_SIMPLEX, 0.5, (0, 0, 255))\n"
   ]
  },
  {
   "cell_type": "code",
   "execution_count": null,
   "metadata": {
    "collapsed": true
   },
   "outputs": [],
   "source": [
    "def labels_for_tree(just_tree, nodes):\n",
    "    # just_tree = cv2.imread(image_path) #use k=9 to get only tips, k=4 gets some of the labels but is not as clean\n",
    "    result = label_rectangles(just_tree)\n",
    "    labels = [(pos, get_label(Image.fromarray(just_tree), pos) ) for pos in result[1] ]\n",
    "    associations = []\n",
    "    for label in labels:\n",
    "        r,lname = label\n",
    "        x,y,w,h = r\n",
    "        # get distances to all nodes\n",
    "        distances = set()\n",
    "        for node in nodes:\n",
    "            x1,y1 = node\n",
    "            d = distance.euclidean((x,y),node)\n",
    "            distances.add((d,node))\n",
    "        #get the node that is the minimum distance and name it\n",
    "        associations.append((min(distances)[1],(x,y),lname))\n",
    "    tree = result[0].copy()\n",
    "    return associations\n",
    "\n",
    "def get_label(img, pos):\n",
    "    x,y,w,h = pos\n",
    "#     img = Image.fromarray(img)\n",
    "    box = (x, y, x + w, y + h)\n",
    "    ocr_ready = img.crop(box)\n",
    "    return imgToStr(np.asarray(ocr_ready))\n",
    "\n",
    "def imgToStr(im):\n",
    "#     type(im)\n",
    "    gray_im = cv2.cvtColor(im, cv2.COLOR_BGR2GRAY)\n",
    "    gray_image = Image.fromarray(gray_im)\n",
    "    str = pytesseract.image_to_string(gray_image, config=\"--tessedit_char_whitelist AaBbCcDdEeFfGgHhIiJjKkLlMmNnOoPpQqRrSsTtUuVvWwXxYyZz_0123456789\")\n",
    "\n",
    "    return str"
   ]
  },
  {
   "cell_type": "code",
   "execution_count": null,
   "metadata": {
    "collapsed": false
   },
   "outputs": [],
   "source": [
    "neighbors = {nodes[k] : [nodes[w] for w in v] for k,v in node_neighbors.iteritems()}\n",
    "edges = tree2.get_edges(neighbors, root=root)\n",
    "    \n",
    "all_points = set([p for e in edges for p in e])\n",
    "# print all_points\n",
    "# print nodes\n",
    "\n",
    "labels = labels_for_tree(cv2.imread(fn), all_points)\n",
    "\n",
    "label_dict = {p:None for p in all_points}\n",
    "for label in labels:\n",
    "    if label[0] and label[0] in tree2.get_leafs(edges):\n",
    "        label_dict[label[0]] = label[2]\n",
    "        \n",
    "tree = tree2.build_tree(edges, label_dict)\n",
    "show(scratch, False)"
   ]
  },
  {
   "cell_type": "code",
   "execution_count": null,
   "metadata": {
    "collapsed": false
   },
   "outputs": [],
   "source": [
    "tree_str = str(tree).replace(\", \", \",\").replace(\" \", \"_\").replace(\"'\",\"\").replace(\":\",\"\")\n",
    "print tree_str\n",
    "tree_obj = ete2.Tree(\"{};\".format(tree_str), format=1)\n",
    "print tree_obj"
   ]
  },
  {
   "cell_type": "code",
   "execution_count": null,
   "metadata": {
    "collapsed": false
   },
   "outputs": [],
   "source": []
  },
  {
   "cell_type": "code",
   "execution_count": null,
   "metadata": {
    "collapsed": true
   },
   "outputs": [],
   "source": []
  },
  {
   "cell_type": "code",
   "execution_count": null,
   "metadata": {
    "collapsed": true
   },
   "outputs": [],
   "source": []
  },
  {
   "cell_type": "code",
   "execution_count": null,
   "metadata": {
    "collapsed": true
   },
   "outputs": [],
   "source": []
  },
  {
   "cell_type": "code",
   "execution_count": null,
   "metadata": {
    "collapsed": true
   },
   "outputs": [],
   "source": []
  }
 ],
 "metadata": {
  "kernelspec": {
   "display_name": "Python 2",
   "language": "python",
   "name": "python2"
  },
  "language_info": {
   "codemirror_mode": {
    "name": "ipython",
    "version": 2
   },
   "file_extension": ".py",
   "mimetype": "text/x-python",
   "name": "python",
   "nbconvert_exporter": "python",
   "pygments_lexer": "ipython2",
   "version": "2.7.10"
  }
 },
 "nbformat": 4,
 "nbformat_minor": 0
}
