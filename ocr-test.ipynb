{
 "cells": [
  {
   "cell_type": "code",
   "execution_count": 12,
   "metadata": {
    "collapsed": false
   },
   "outputs": [],
   "source": [
    "try:\n",
    "    import Image\n",
    "except:\n",
    "    from PIL import Image\n",
    "\n",
    "import pytesseract\n",
    "import os.path\n",
    "from pytesseract import image_to_string\n",
    "%matplotlib inline\n"
   ]
  },
  {
   "cell_type": "code",
   "execution_count": 99,
   "metadata": {
    "collapsed": false
   },
   "outputs": [],
   "source": [
    "from group_nodes_2_text import *"
   ]
  },
  {
   "cell_type": "code",
   "execution_count": 2,
   "metadata": {
    "collapsed": false
   },
   "outputs": [
    {
     "name": "stdout",
     "output_type": "stream",
     "text": [
      "/Users/celder/git/RC-Tree/images/Tree2_Circular.png\n"
     ]
    }
   ],
   "source": [
    "#file = 'Tree1.png'\n",
    "#file = 'tree_image_ref.png'\n",
    "#file2 ='test-european.jpg'\n",
    "#file = 'tree_image_ref_right.png'\n",
    "file = 'images/Tree2_Circular.png'\n",
    "script_dir = os.path.dirname(os.path.abspath('__file__'))\n",
    "print os.path.join(script_dir, file)\n",
    "\n"
   ]
  },
  {
   "cell_type": "code",
   "execution_count": 3,
   "metadata": {
    "collapsed": false
   },
   "outputs": [
    {
     "name": "stdout",
     "output_type": "stream",
     "text": [
      "PNG (1187, 1190) RGBA\n"
     ]
    }
   ],
   "source": [
    "\n",
    "image = Image.open(os.path.join(script_dir, file))\n",
    "print image.format, image.size, image.mode\n"
   ]
  },
  {
   "cell_type": "code",
   "execution_count": 5,
   "metadata": {
    "collapsed": false
   },
   "outputs": [
    {
     "name": "stdout",
     "output_type": "stream",
     "text": [
      "Passer_monlanus\n",
      "\n",
      " \n",
      "\n",
      "e\n",
      ".m\n",
      "d\n",
      "n\n",
      "k a\n",
      "o\n",
      "n s\n",
      "e n .00\n",
      "m a s Q .8». 6%\n",
      "m Wm“ My ya la 29 Leo a,»\n",
      "wig 405% $90 $2 3%\n",
      ".m I m%.% \\ a: W 96\n",
      "md mnwﬂwwwmshéy 0% Woo\n",
      "mi 5% 4 vkwsvés 3,6,6\n",
      "M 362663430359 am\n",
      "3:05.: : mauvawﬁmx maw\\=a%\n",
      "kc 03ml 110m? 2.36m ix\n",
      "ncEEEImSE nm_mnm:o_%m\\===m\n",
      ")mu<n_=m|=5:mn3=m ogazmnEmmenaEmim\n",
      ".m\n",
      "oéoamax‘maoaa. oﬂoamniﬂgnoaamm N\n",
      "GEE mSES J I\n",
      "303%,: NkaQI .‘EQ MEESQ\n",
      "34.6 mm mxme\n",
      "760%? . 3am:\n",
      "056% m Sees «an»;\n",
      ":m\\ o . uh»?\n",
      ".328 oxsoo 5; ﬁe % m ovxwo/qemﬁz\n",
      "39 ac 1/94 a,» a, we a 5» a& + am\n",
      "% doavsqwmm a— \\oxsoe $3\n",
      "a» 909 W? W W ,m 9 @00¢ \\eQ/ p.36» axe?\n",
      "\\ 8 0 I b\n",
      "2% +v Wu» \"we AW 5%. pvév 0/ +@ \\mwmx\n",
      "£0» 0.9 «A, ,o{ M W; m ﬂaw \\e/ Am 59¢ &@\n",
      "o\n",
      "A: oimuh m WN/ﬁwwoa aoav ”we\n",
      "mhwmmn wwwsuwaawwq\n",
      "9% J .1 m M .W e M .w .m\\ @w.\n",
      "m w x, m g no 4» we 40\n",
      ".0 i m. a, s, , ﬂ 0 ﬁx\n",
      "r m. m m a M w e +59\n",
      "m & m M A no! mx\n",
      "S R B H\n"
     ]
    }
   ],
   "source": [
    "print(pytesseract.image_to_string(image))"
   ]
  },
  {
   "cell_type": "code",
   "execution_count": null,
   "metadata": {
    "collapsed": false
   },
   "outputs": [],
   "source": [
    "image = Image.open(os.path.join(script_dir, file2))"
   ]
  },
  {
   "cell_type": "code",
   "execution_count": null,
   "metadata": {
    "collapsed": false
   },
   "outputs": [],
   "source": [
    "#print(pytesseract.image_to_string(image, lang='fra'))"
   ]
  },
  {
   "cell_type": "code",
   "execution_count": 277,
   "metadata": {
    "collapsed": false
   },
   "outputs": [
    {
     "name": "stdout",
     "output_type": "stream",
     "text": [
      "Phrase orig: Fufica atra\n",
      "\n",
      "Phrase orig with configs: Fufica atra\n",
      "\n",
      "Phrase orig with verbose configs: Fufica atra\n",
      "\n",
      "Phrase grayscale: Fuﬁca atria\n",
      "\n",
      "\n",
      "Phrase grayscale with configs: Fuﬁca arra\n",
      "\n",
      "Phrase grayscale with verbose configs: Fuﬁca atria\n",
      "\n",
      "Phrase grayscale with extra verbose configs: Fuﬁca atria\n",
      "\n",
      "\n",
      "Phrase thresholded: Fuh'ca afra\n",
      "\n",
      "Phrase thresholded with configs: Fuh'ca ax‘ra\n",
      "\n",
      "Phrase thresholded with verbose configs: Fuh'ca afra\n",
      "\n"
     ]
    }
   ],
   "source": [
    "from PIL import Image\n",
    "import pytesseract\n",
    "import os.path\n",
    "script_dir = os.path.dirname(os.path.abspath('__file__'))\n",
    "from pytesseract import image_to_string\n",
    "import cv2\n",
    "import numpy\n",
    "\n",
    "# file = 'images/Tree2.png'\n",
    "# image = Image.open(os.path.join(script_dir, file))\n",
    "# print(\"Tree1\" + pytesseract.image_to_string(image) + \"\\n\")\n",
    "\n",
    "file_word = 'images/fa_phrase.png'\n",
    "# file_word = 'images/rost_phrase.png'\n",
    "# file_word = 'images/fc_phrase.png'\n",
    "# image_word = Image.open(os.path.join(script_dir, file_word))\n",
    "# image_word = cv2.imread(file_word)\n",
    "# print(\"Troodon word: \" + pytesseract.image_to_string(image_word) + \"\\n\")\n",
    "# image_word.cvtColor(image_word, image_word_gray, CV_BGR2GRAY)\n",
    "\n",
    "im=cv2.imread(file_word)\n",
    "# cv2.imshow('Original',im)\n",
    "im_image = Image.fromarray(im)\n",
    "\n",
    "print(\"Phrase orig: \" + pytesseract.image_to_string(im_image) + \"\\n\")\n",
    "cv2.imwrite('images/phrase_orig.png', im)\n",
    "\n",
    "# print(\"Phrase orig with configs: \" + pytesseract.image_to_string(im_image, config=\"--user-words config/user-words.txt, --user-patterns config/user-patterns.txt, --tessedit_char_whitelist AaBbCcDdEeFfGgHhIiJjKkLlMmNnOoPpQqRrSsTtUuVvWwXxYyZz\") + \"\\n\")\n",
    "print(\"Phrase orig with configs: \" + pytesseract.image_to_string(im_image, config=\"--bazaar config/bazaar\") + \"\\n\")\n",
    "print(\"Phrase orig with verbose configs: \" + pytesseract.image_to_string(im_image, config=\"--user-words config/user-words.txt --user-patterns config/user-patterns.txt\") + \"\\n\")\n",
    "\n",
    "gray_im = cv2.cvtColor(im, cv2.COLOR_BGR2GRAY)\n",
    "# cv2.imshow('Gray',gray_im)\n",
    "gray_image = Image.fromarray(gray_im)\n",
    "print(\"Phrase grayscale: \" + pytesseract.image_to_string(gray_image) + \"\\n\")\n",
    "cv2.imwrite('images/phrase_gray.png', gray_im)\n",
    "\n",
    "print(\"\\nPhrase grayscale with configs: \" + pytesseract.image_to_string(gray_image, config=\"--bazaar config/bazaar\") + \"\\n\")\n",
    "print(\"Phrase grayscale with verbose configs: \" + pytesseract.image_to_string(gray_image, config=\"--user-words config/user-words.txt --user-patterns config/user-patterns.txt\") + \"\\n\")\n",
    "print(\"Phrase grayscale with extra verbose configs: \" + pytesseract.image_to_string(gray_image, config=\"--user-words config/user-words.txt --user-patterns config/user-patterns.txt --tessedit_char_whitelist AaBbCcDdEeFfGgHhIiJjKkLlMmNnOoPpQqRrSsTtUuVvWwXxYyZz_\") + \"\\n\\n\")\n",
    "\n",
    "thresh_im  = numpy.array(gray_im, numpy.uint8)\n",
    "thresh, thresh_im = cv2.threshold(gray_im, 125, 255, cv2.THRESH_BINARY)\n",
    "thresh_image = Image.fromarray(thresh_im)\n",
    "print(\"Phrase thresholded: \" + pytesseract.image_to_string(thresh_image) + \"\\n\")\n",
    "cv2.imwrite('images/phrase_thresh.png', thresh_im)\n",
    "\n",
    "print(\"Phrase thresholded with configs: \" + pytesseract.image_to_string(thresh_image, config=\"--bazaar config/bazaar\") + \"\\n\")\n",
    "print(\"Phrase thresholded with verbose configs: \" + pytesseract.image_to_string(thresh_image, config=\"--user-words config/user-words.txt --user-patterns config/user-patterns.txt\") + \"\\n\")\n"
   ]
  },
  {
   "cell_type": "code",
   "execution_count": 7,
   "metadata": {
    "collapsed": false
   },
   "outputs": [],
   "source": [
    "# import tesseract\n",
    "# ocr = tesseract.TessBaseAPI();\n",
    "# ocr.Init(\".\",\"eng\",tesseract.OEM_TESSERACT_ONLY)\n",
    "# ocr.SetVariable(\"tessedit_char_whitelist\", \"AaBbCcDdEeFfGgHhIiJjKkLlMmNnOoPpQqRrSsTtUuVvWwXxYyZz\")"
   ]
  },
  {
   "cell_type": "code",
   "execution_count": 139,
   "metadata": {
    "collapsed": false
   },
   "outputs": [
    {
     "data": {
      "text/plain": [
       "'Archoeopteryx Iithographica'"
      ]
     },
     "execution_count": 139,
     "metadata": {},
     "output_type": "execute_result"
    }
   ],
   "source": [
    "# image to str as a function\n",
    "from PIL import Image\n",
    "import pytesseract\n",
    "# import os.path\n",
    "# script_dir = os.path.dirname(os.path.abspath('__file__'))\n",
    "from pytesseract import image_to_string\n",
    "import cv2\n",
    "import numpy\n",
    "\n",
    "def imgToStr(im): \n",
    "#     print(\"Phrase orig: \" + pytesseract.image_to_string(im_image) + \"\\n\")\n",
    "#     cv2.imwrite('images/phrase_orig.png', im)\n",
    "\n",
    "    # print(\"Phrase orig with configs: \" + pytesseract.image_to_string(im_image, config=\"--user-words config/user-words.txt, --user-patterns config/user-patterns.txt, --tessedit_char_whitelist AaBbCcDdEeFfGgHhIiJjKkLlMmNnOoPpQqRrSsTtUuVvWwXxYyZz\") + \"\\n\")\n",
    "#     print(\"Phrase orig with configs: \" + pytesseract.image_to_string(im_image, config=\"--bazaar config/bazaar\") + \"\\n\")\n",
    "#     print(\"Phrase orig with verbose configs: \" + pytesseract.image_to_string(im_image, config=\"--user-words config/user-words.txt --user-patterns config/user-patterns.txt\") + \"\\n\")\n",
    "#     print(\"Phrase orig with extra verbose configs: \" + pytesseract.image_to_string(im_image, config=\"--user-words config/user-words.txt --user-patterns config/user-patterns.txt --tessedit_char_whitelist AaBbCcDdEeFfGgHhIiJjKkLlMmNnOoPpQqRrSsTtUuVvWwXxYyZz_0123456789\") + \"\\n\\n\")\n",
    "\n",
    "    gray_im = cv2.cvtColor(im, cv2.COLOR_BGR2GRAY)\n",
    "    # cv2.imshow('Gray',gray_im)\n",
    "    gray_image = Image.fromarray(gray_im)\n",
    "#     print(\"\\nPhrase grayscale: \" + pytesseract.image_to_string(gray_image) + \"\\n\")\n",
    "#     cv2.imwrite('images/phrase_gray.png', gray_im)\n",
    "#     print(\"Phrase grayscale with minimal configs: \" + pytesseract.image_to_string(gray_image, config=\"--tessedit_char_whitelist AaBbCcDdEeFfGgHhIiJjKkLlMmNnOoPpQqRrSsTtUuVvWwXxYyZz_ --psm 7\") + \"\\n\")\n",
    "#     print(\"Phrase grayscale with configs: \" + pytesseract.image_to_string(gray_image, config=\"--bazaar config/bazaar\") + \"\\n\")\n",
    "#     print(\"Phrase grayscale with verbose configs: \" + pytesseract.image_to_string(gray_image, config=\"--user-words config/user-words.txt --user-patterns config/user-patterns.txt\") + \"\\n\")\n",
    "#     print(\"Phrase grayscale with extra verbose configs: \" + pytesseract.image_to_string(gray_image, config=\"--user-words config/user-words.txt --user-patterns config/user-patterns.txt --tessedit_char_whitelist AaBbCcDdEeFfGgHhIiJjKkLlMmNnOoPpQqRrSsTtUuVvWwXxYyZz_\") + \"\\n\\n\")\n",
    "\n",
    "#     thresh_im  = numpy.array(gray_im, numpy.uint8)\n",
    "#     thresh, thresh_im = cv2.threshold(gray_im, 125, 255, cv2.THRESH_BINARY)\n",
    "#     thresh_image = Image.fromarray(thresh_im)\n",
    "#     print(\"Phrase thresholded: \" + pytesseract.image_to_string(thresh_image) + \"\\n\")\n",
    "#     cv2.imwrite('images/phrase_thresh.png', thresh_im)\n",
    "\n",
    "#     print(\"Phrase thresholded with configs: \" + pytesseract.image_to_string(thresh_image, config=\"--bazaar config/bazaar\") + \"\\n\")\n",
    "#     print(\"Phrase thresholded with verbose configs: \" + pytesseract.image_to_string(thresh_image, config=\"--user-words config/user-words.txt --user-patterns config/user-patterns.txt\") + \"\\n\")\n",
    "    \n",
    "#     str = pytesseract.image_to_string(im, config=\"--user-words config/user-words.txt --user-patterns config/user-patterns.txt --tessedit_char_whitelist AaBbCcDdEeFfGgHhIiJjKkLlMmNnOoPpQqRrSsTtUuVvWwXxYyZz_0123456789\")\n",
    "    str = pytesseract.image_to_string(gray_image, config=\"--user-words config/user-words.txt --user-patterns config/user-patterns.txt --tessedit_char_whitelist AaBbCcDdEeFfGgHhIiJjKkLlMmNnOoPpQqRrSsTtUuVvWwXxYyZz_0123456789\")\n",
    "\n",
    "    return str\n",
    "\n",
    "    \n",
    "\n",
    "# file_word = 'images/sm_phrase.png'\n",
    "# file_word = 'images/rb_phrase.png'\n",
    "# file_word = 'images/mm_phrase.png'\n",
    "# file_word = 'images/bj_phrase.png'\n",
    "# file_word = 'images/gp_phrase.png'\n",
    "# file_word = 'images/fa_phrase.png'\n",
    "file_word = 'images/al_phrase.png'\n",
    "# file_word = 'images/tm_phrase.png'\n",
    "\n",
    "im=cv2.imread(file_word)\n",
    "cv2.imwrite('images/phrase_orig.png', im)\n",
    "im_image = Image.fromarray(im)\n",
    "\n",
    "imgToStr(im_image)\n"
   ]
  },
  {
   "cell_type": "code",
   "execution_count": 278,
   "metadata": {
    "collapsed": true
   },
   "outputs": [],
   "source": [
    "def labels_for_tree():\n",
    "    imfile = \"images/tree_image_ref.png\"\n",
    "    just_tree = cv2.imread(imfile) #use k=9 to get only tips, k=4 gets some of the labels but is not as clean\n",
    "    result = label_rectangles(just_tree)    \n",
    "    labels = [(pos, get_label(Image.fromarray(just_tree), pos) ) for pos in result[1] ]\n",
    "    return labels\n",
    "#     nodes = le_main(imfile, 1)\n",
    "#     associations = []\n",
    "#     for label in labels:\n",
    "#         r,lname = label\n",
    "#         x,y,w,h = r\n",
    "#         # get distances to all nodes\n",
    "#         distances = set()\n",
    "#         for node in nodes:\n",
    "#             x1,y1 = node\n",
    "#             d = distance.euclidean((x,y),node)\n",
    "#             distances.add((d,node))\n",
    "#         #get the node that is the minimum distance and name it\n",
    "#         associations.append((min(distances)[1],(x,y),lname))\n",
    "#     tree = result[0].copy()\n",
    "#     map(print_leaf, associations)\n",
    "#     show(tree, False)"
   ]
  },
  {
   "cell_type": "code",
   "execution_count": 265,
   "metadata": {
    "collapsed": false
   },
   "outputs": [],
   "source": [
    "def get_label(img, pos):\n",
    "    x,y,w,h = pos\n",
    "    box = (x, y, x + w, y + h)\n",
    "    ocr_ready = img.crop(box)\n",
    "#     return ocr_ready\n",
    "    return imgToStr(ocr_ready)\n",
    "\n",
    "    "
   ]
  },
  {
   "cell_type": "code",
   "execution_count": 11,
   "metadata": {
    "collapsed": false
   },
   "outputs": [
    {
     "name": "stdout",
     "output_type": "stream",
     "text": [
      "Asdsa\n"
     ]
    }
   ],
   "source": [
    "print \"Asdsa\""
   ]
  },
  {
   "cell_type": "code",
   "execution_count": 261,
   "metadata": {
    "collapsed": false
   },
   "outputs": [
    {
     "data": {
      "image/png": "[encoded data removed]",
      "text/plain": [
       "<PIL.Image._ImageCrop image mode=RGB size=300x69 at 0x10D3F8750>"
      ]
     },
     "execution_count": 261,
     "metadata": {},
     "output_type": "execute_result"
    }
   ],
   "source": [
    "get_label(Image.fromarray(im), (10,100,69,300))"
   ]
  },
  {
   "cell_type": "code",
   "execution_count": 235,
   "metadata": {
    "collapsed": false
   },
   "outputs": [
    {
     "data": {
      "image/png": "[encoded data removed]",
      "text/plain": [
       "<PIL.Image._ImageCrop image mode=RGB size=230x59 at 0x10D44C110>"
      ]
     },
     "execution_count": 235,
     "metadata": {},
     "output_type": "execute_result"
    }
   ],
   "source": [
    "image = Image.fromarray(im)\n",
    "image.crop((70,10,300,69))\n"
   ]
  },
  {
   "cell_type": "code",
   "execution_count": 122,
   "metadata": {
    "collapsed": false
   },
   "outputs": [
    {
     "name": "stdout",
     "output_type": "stream",
     "text": [
      "sada\n"
     ]
    }
   ],
   "source": [
    "im.shape\n",
    "print \"sada\""
   ]
  },
  {
   "cell_type": "code",
   "execution_count": 279,
   "metadata": {
    "collapsed": false
   },
   "outputs": [
    {
     "data": {
      "text/plain": [
       "[((610, 462, 128, 19), 'Dmmaeosaundae'),\n",
       " ((608, 434, 201, 22), 'Archaeoptem lithographica'),\n",
       " ((609, 407, 167, 20), 'Conlllclusomls sancms'),\n",
       " ((609, 380, 133, 23), 'Gubmreryx mmum'),\n",
       " ((609, 352, 150, 22), 'Neuquenmm volans'),\n",
       " ((609, 323, 138, 20), 'Concomis Iacustns'),\n",
       " ((609, 295, 145, 23), 'Gamayomis yandica'),\n",
       " ((609, 269, 174, 22), 'Patagaptelyx derenams:'),\n",
       " ((609, 241, 73, 22), 'Bapmrrus'),\n",
       " ((609, 214, 89, 22), 'Hesperomls'),\n",
       " ((607, 184, 148, 22), 'Ausmvis ukhaana'),\n",
       " ((609, 158, 82, 22), 'lcmhyomls'),\n",
       " ((608, 129, 204, 23), 'Aves: Crypturellus undulams'),\n",
       " ((608, 103, 123, 23), 'Aves: Crax pawn'),\n",
       " ((608, 76, 136, 23), 'Aves: Gallus gallus'),\n",
       " ((608, 48, 164, 23), 'Aves: Chauna tomuam'),\n",
       " ((608, 21, 184, 22), 'Aves: Anas plarymyncnns')]"
      ]
     },
     "execution_count": 279,
     "metadata": {},
     "output_type": "execute_result"
    }
   ],
   "source": [
    "labels_for_tree()"
   ]
  },
  {
   "cell_type": "code",
   "execution_count": null,
   "metadata": {
    "collapsed": false
   },
   "outputs": [],
   "source": []
  },
  {
   "cell_type": "code",
   "execution_count": null,
   "metadata": {
    "collapsed": true
   },
   "outputs": [],
   "source": []
  }
 ],
 "metadata": {
  "kernelspec": {
   "display_name": "Python 2",
   "language": "python",
   "name": "python2"
  },
  "language_info": {
   "codemirror_mode": {
    "name": "ipython",
    "version": 2
   },
   "file_extension": ".py",
   "mimetype": "text/x-python",
   "name": "python",
   "nbconvert_exporter": "python",
   "pygments_lexer": "ipython2",
   "version": "2.7.10"
  }
 },
 "nbformat": 4,
 "nbformat_minor": 0
}
