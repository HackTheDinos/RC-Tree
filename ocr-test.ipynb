{
 "cells": [
  {
   "cell_type": "code",
   "execution_count": 1,
   "metadata": {
    "collapsed": false
   },
   "outputs": [],
   "source": [
    "try:\n",
    "    import Image\n",
    "except:\n",
    "    from PIL import Image\n",
    "\n",
    "import pytesseract\n",
    "import os.path\n",
    "from pytesseract import image_to_string"
   ]
  },
  {
   "cell_type": "code",
   "execution_count": 2,
   "metadata": {
    "collapsed": false
   },
   "outputs": [
    {
     "name": "stdout",
     "output_type": "stream",
     "text": [
      "/media/dvndrsn/SHARED/dev/git/RC-Tree/images/Tree2_Circular.png\n"
     ]
    }
   ],
   "source": [
    "#file = 'Tree1.png'\n",
    "#file = 'tree_image_ref.png'\n",
    "#file2 ='test-european.jpg'\n",
    "#file = 'tree_image_ref_right.png'\n",
    "file = 'images/Tree2_Circular.png'\n",
    "script_dir = os.path.dirname(os.path.abspath('__file__'))\n",
    "print os.path.join(script_dir, file)\n",
    "\n"
   ]
  },
  {
   "cell_type": "code",
   "execution_count": 3,
   "metadata": {
    "collapsed": false
   },
   "outputs": [
    {
     "name": "stdout",
     "output_type": "stream",
     "text": [
      "PNG (1187, 1190) RGBA\n"
     ]
    }
   ],
   "source": [
    "\n",
    "image = Image.open(os.path.join(script_dir, file))\n",
    "print image.format, image.size, image.mode\n"
   ]
  },
  {
   "cell_type": "code",
   "execution_count": 4,
   "metadata": {
    "collapsed": false
   },
   "outputs": [
    {
     "name": "stdout",
     "output_type": "stream",
     "text": [
      "Passer_monlanus\n",
      "\n",
      " \n",
      "\n",
      "e\n",
      ".m\n",
      "d\n",
      "n\n",
      "k a\n",
      "o\n",
      "n s\n",
      "e n \n",
      "m a s Q .8». 60m\n",
      "mWMowam ’06 Lao a,»\n",
      "wig wasps» $90 $2 3%\n",
      ".mIM/asén 3? W 96\n",
      "ma  0% Was\n",
      "Mann pa 4 4%“; 2% gas:\n",
      "\\\n",
      "W o¢o%%a¢s\\oa,=a am\n",
      "a \\ . a\n",
      "m€ao§c§1§m 1:WM1,%=%m nwogmmnaEa v\n",
      "I . k .\n",
      "2.5.5 :2: E_m§o_%m\\5_=msx\n",
      ")mu<n_=m|=5:mnx=m ogazmnEmmenaEmim\n",
      ". =m_m\n",
      "3%:53x532m omasnaﬂiasaa N\n",
      "nsu :\n",
      "€20:qu 9.551\n",
      "Soc? 8&6 m ~m~§§ﬁ\n",
      "34.6 mm \\\\_m@\n",
      "760%? .m 3am:\n",
      "056a m aﬁweo each\n",
      ".3¢9¢m\\ same as (s cm». of. T\n",
      "93 ox a. 9/ e .a m a .u/ 0)\n",
      "Ac 0% 1’s a, Ame/a. a 59 on + am\n",
      "a 46 a o, ow % _ \\0\\ 3w @ «woe\n",
      "made 069 w?  W m e Gooq \\eQ/ page» axe?\n",
      "\\ s 0 I b\n",
      "290 av as, as w .. .sm ‘ Ava“ 9 f @a\n",
      "£0» m; «A, ,o{ w m m w my aw “moo 59¢» “woe\n",
      "9%wa m waw 99 “new\n",
      "wbwmwm wwwu»\\&wq\n",
      "30 J .1 m n .m e M .w d‘ /\n",
      "a w x. m ﬂ n x «w eA‘\n",
      " a i d\n",
      "0 i m. a, s, a, ﬂ 0 ﬁx\n",
      "r m. m m a m w 9 Av\n",
      "% & m m A w «\n",
      "S R B H\n"
     ]
    }
   ],
   "source": [
    "print(pytesseract.image_to_string(image))"
   ]
  },
  {
   "cell_type": "code",
   "execution_count": 44,
   "metadata": {
    "collapsed": false
   },
   "outputs": [],
   "source": [
    "image = Image.open(os.path.join(script_dir, file2))"
   ]
  },
  {
   "cell_type": "code",
   "execution_count": null,
   "metadata": {
    "collapsed": false
   },
   "outputs": [],
   "source": [
    "#print(pytesseract.image_to_string(image, lang='fra'))"
   ]
  },
  {
   "cell_type": "code",
   "execution_count": 3,
   "metadata": {
    "collapsed": false
   },
   "outputs": [
    {
     "name": "stdout",
     "output_type": "stream",
     "text": [
      "Phrase orig: F ra IE! n: Ufa cfrrha fa\n",
      "\n",
      "Phrase grayscale: Frarercuia cfrrhara\n",
      "\n",
      "Phrase thresholded: Frarerﬂuﬂa cfrrhara\n",
      "\n"
     ]
    },
    {
     "data": {
      "text/plain": [
       "True"
      ]
     },
     "execution_count": 3,
     "metadata": {},
     "output_type": "execute_result"
    }
   ],
   "source": [
    "from PIL import Image\n",
    "import pytesseract\n",
    "import os.path\n",
    "script_dir = os.path.dirname(os.path.abspath('__file__'))\n",
    "from pytesseract import image_to_string\n",
    "import cv2\n",
    "import numpy\n",
    "\n",
    "# file = 'images/Tree2.png'\n",
    "# image = Image.open(os.path.join(script_dir, file))\n",
    "# print(\"Tree1\" + pytesseract.image_to_string(image) + \"\\n\")\n",
    "\n",
    "# file_word = 'images/tm_phrase.png'\n",
    "file_word = 'images/fc_phrase.png'\n",
    "image_word = Image.open(os.path.join(script_dir, file_word))\n",
    "# image_word = cv2.imread(file_word)\n",
    "# print(\"Troodon word: \" + pytesseract.image_to_string(image_word) + \"\\n\")\n",
    "# image_word.cvtColor(image_word, image_word_gray, CV_BGR2GRAY)\n",
    "\n",
    "im=cv2.imread(file_word)\n",
    "# cv2.imshow('Original',im)\n",
    "im_image = Image.fromarray(im)\n",
    "\n",
    "print(\"Phrase orig: \" + pytesseract.image_to_string(im_image) + \"\\n\")\n",
    "cv2.imwrite('images/phrase_orig.png', im)\n",
    "\n",
    "gray_im = cv2.cvtColor(im, cv2.COLOR_BGR2GRAY)\n",
    "# cv2.imshow('Gray',gray_im)\n",
    "gray_image = Image.fromarray(gray_im)\n",
    "print(\"Phrase grayscale: \" + pytesseract.image_to_string(gray_image) + \"\\n\")\n",
    "cv2.imwrite('images/phrase_gray.png', gray_im)\n",
    "\n",
    "thresh_im  = numpy.array(gray_im, numpy.uint8)\n",
    "thresh, thresh_im = cv2.threshold(gray_im, 125, 255, cv2.THRESH_BINARY)\n",
    "thresh_image = Image.fromarray(thresh_im)\n",
    "print(\"Phrase thresholded: \" + pytesseract.image_to_string(thresh_image) + \"\\n\")\n",
    "cv2.imwrite('images/phrase_thresh.png', thresh_im)\n"
   ]
  },
  {
   "cell_type": "code",
   "execution_count": 2,
   "metadata": {
    "collapsed": false
   },
   "outputs": [
    {
     "ename": "ImportError",
     "evalue": "dlopen(//anaconda/lib/python2.7/site-packages/python_tesseract-0.9.1-py2.7-macosx-10.10-x86_64.egg/_tesseract.so, 2): Library not loaded: /usr/local/lib/libopencv_superres.2.4.dylib\n  Referenced from: //anaconda/lib/python2.7/site-packages/python_tesseract-0.9.1-py2.7-macosx-10.10-x86_64.egg/_tesseract.so\n  Reason: image not found",
     "output_type": "error",
     "traceback": [
      "\u001b[0;31m---------------------------------------------------------------------------\u001b[0m",
      "\u001b[0;31mImportError\u001b[0m                               Traceback (most recent call last)",
      "\u001b[0;32m<ipython-input-2-f3c6f286acba>\u001b[0m in \u001b[0;36m<module>\u001b[0;34m()\u001b[0m\n\u001b[0;32m----> 1\u001b[0;31m \u001b[0;32mimport\u001b[0m \u001b[0mtesseract\u001b[0m\u001b[0;34m\u001b[0m\u001b[0m\n\u001b[0m\u001b[1;32m      2\u001b[0m \u001b[0mocr\u001b[0m \u001b[0;34m=\u001b[0m \u001b[0mtesseract\u001b[0m\u001b[0;34m.\u001b[0m\u001b[0mTessBaseAPI\u001b[0m\u001b[0;34m(\u001b[0m\u001b[0;34m)\u001b[0m\u001b[0;34m;\u001b[0m\u001b[0;34m\u001b[0m\u001b[0m\n\u001b[1;32m      3\u001b[0m \u001b[0mocr\u001b[0m\u001b[0;34m.\u001b[0m\u001b[0mInit\u001b[0m\u001b[0;34m(\u001b[0m\u001b[0;34m\".\"\u001b[0m\u001b[0;34m,\u001b[0m\u001b[0;34m\"eng\"\u001b[0m\u001b[0;34m,\u001b[0m\u001b[0mtesseract\u001b[0m\u001b[0;34m.\u001b[0m\u001b[0mOEM_TESSERACT_ONLY\u001b[0m\u001b[0;34m)\u001b[0m\u001b[0;34m\u001b[0m\u001b[0m\n\u001b[1;32m      4\u001b[0m \u001b[0mocr\u001b[0m\u001b[0;34m.\u001b[0m\u001b[0mSetVariable\u001b[0m\u001b[0;34m(\u001b[0m\u001b[0;34m\"tessedit_char_whitelist\"\u001b[0m\u001b[0;34m,\u001b[0m \u001b[0;34m\"AaBbCcDdEeFfGgHhIiJjKkLlMmNnOoPpQqRrSsTtUuVvWwXxYyZz\"\u001b[0m\u001b[0;34m)\u001b[0m\u001b[0;34m\u001b[0m\u001b[0m\n",
      "\u001b[0;32m//anaconda/lib/python2.7/site-packages/python_tesseract-0.9.1-py2.7-macosx-10.10-x86_64.egg/tesseract.py\u001b[0m in \u001b[0;36m<module>\u001b[0;34m()\u001b[0m\n\u001b[1;32m     26\u001b[0m                 \u001b[0mfp\u001b[0m\u001b[0;34m.\u001b[0m\u001b[0mclose\u001b[0m\u001b[0;34m(\u001b[0m\u001b[0;34m)\u001b[0m\u001b[0;34m\u001b[0m\u001b[0m\n\u001b[1;32m     27\u001b[0m             \u001b[0;32mreturn\u001b[0m \u001b[0m_mod\u001b[0m\u001b[0;34m\u001b[0m\u001b[0m\n\u001b[0;32m---> 28\u001b[0;31m     \u001b[0m_tesseract\u001b[0m \u001b[0;34m=\u001b[0m \u001b[0mswig_import_helper\u001b[0m\u001b[0;34m(\u001b[0m\u001b[0;34m)\u001b[0m\u001b[0;34m\u001b[0m\u001b[0m\n\u001b[0m\u001b[1;32m     29\u001b[0m     \u001b[0;32mdel\u001b[0m \u001b[0mswig_import_helper\u001b[0m\u001b[0;34m\u001b[0m\u001b[0m\n\u001b[1;32m     30\u001b[0m \u001b[0;32melse\u001b[0m\u001b[0;34m:\u001b[0m\u001b[0;34m\u001b[0m\u001b[0m\n",
      "\u001b[0;32m//anaconda/lib/python2.7/site-packages/python_tesseract-0.9.1-py2.7-macosx-10.10-x86_64.egg/tesseract.py\u001b[0m in \u001b[0;36mswig_import_helper\u001b[0;34m()\u001b[0m\n\u001b[1;32m     22\u001b[0m         \u001b[0;32mif\u001b[0m \u001b[0mfp\u001b[0m \u001b[0;32mis\u001b[0m \u001b[0;32mnot\u001b[0m \u001b[0mNone\u001b[0m\u001b[0;34m:\u001b[0m\u001b[0;34m\u001b[0m\u001b[0m\n\u001b[1;32m     23\u001b[0m             \u001b[0;32mtry\u001b[0m\u001b[0;34m:\u001b[0m\u001b[0;34m\u001b[0m\u001b[0m\n\u001b[0;32m---> 24\u001b[0;31m                 \u001b[0m_mod\u001b[0m \u001b[0;34m=\u001b[0m \u001b[0mimp\u001b[0m\u001b[0;34m.\u001b[0m\u001b[0mload_module\u001b[0m\u001b[0;34m(\u001b[0m\u001b[0;34m'_tesseract'\u001b[0m\u001b[0;34m,\u001b[0m \u001b[0mfp\u001b[0m\u001b[0;34m,\u001b[0m \u001b[0mpathname\u001b[0m\u001b[0;34m,\u001b[0m \u001b[0mdescription\u001b[0m\u001b[0;34m)\u001b[0m\u001b[0;34m\u001b[0m\u001b[0m\n\u001b[0m\u001b[1;32m     25\u001b[0m             \u001b[0;32mfinally\u001b[0m\u001b[0;34m:\u001b[0m\u001b[0;34m\u001b[0m\u001b[0m\n\u001b[1;32m     26\u001b[0m                 \u001b[0mfp\u001b[0m\u001b[0;34m.\u001b[0m\u001b[0mclose\u001b[0m\u001b[0;34m(\u001b[0m\u001b[0;34m)\u001b[0m\u001b[0;34m\u001b[0m\u001b[0m\n",
      "\u001b[0;31mImportError\u001b[0m: dlopen(//anaconda/lib/python2.7/site-packages/python_tesseract-0.9.1-py2.7-macosx-10.10-x86_64.egg/_tesseract.so, 2): Library not loaded: /usr/local/lib/libopencv_superres.2.4.dylib\n  Referenced from: //anaconda/lib/python2.7/site-packages/python_tesseract-0.9.1-py2.7-macosx-10.10-x86_64.egg/_tesseract.so\n  Reason: image not found"
     ]
    }
   ],
   "source": [
    "import tesseract\n",
    "ocr = tesseract.TessBaseAPI();\n",
    "ocr.Init(\".\",\"eng\",tesseract.OEM_TESSERACT_ONLY)\n",
    "ocr.SetVariable(\"tessedit_char_whitelist\", \"AaBbCcDdEeFfGgHhIiJjKkLlMmNnOoPpQqRrSsTtUuVvWwXxYyZz\")"
   ]
  },
  {
   "cell_type": "code",
   "execution_count": null,
   "metadata": {
    "collapsed": true
   },
   "outputs": [],
   "source": []
  }
 ],
 "metadata": {
  "kernelspec": {
   "display_name": "Python 2",
   "language": "python",
   "name": "python2"
  },
  "language_info": {
   "codemirror_mode": {
    "name": "ipython",
    "version": 2
   },
   "file_extension": ".py",
   "mimetype": "text/x-python",
   "name": "python",
   "nbconvert_exporter": "python",
   "pygments_lexer": "ipython2",
   "version": "2.7.10"
  }
 },
 "nbformat": 4,
 "nbformat_minor": 0
}
